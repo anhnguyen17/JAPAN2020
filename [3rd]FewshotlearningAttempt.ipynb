{
  "nbformat": 4,
  "nbformat_minor": 0,
  "metadata": {
    "colab": {
      "name": "[3rd]FewshotlearningAttempt.ipynb",
      "provenance": [],
      "authorship_tag": "ABX9TyMUSEkNwTniXdDguxG/Ofrt",
      "include_colab_link": true
    },
    "kernelspec": {
      "display_name": "Python 3",
      "name": "python3"
    },
    "language_info": {
      "name": "python"
    }
  },
  "cells": [
    {
      "cell_type": "markdown",
      "metadata": {
        "id": "view-in-github",
        "colab_type": "text"
      },
      "source": [
        "<a href=\"https://colab.research.google.com/github/anhnguyen17/JAPAN2020/blob/main/%5B3rd%5DFewshotlearningAttempt.ipynb\" target=\"_parent\"><img src=\"https://colab.research.google.com/assets/colab-badge.svg\" alt=\"Open In Colab\"/></a>"
      ]
    },
    {
      "cell_type": "code",
      "metadata": {
        "colab": {
          "base_uri": "https://localhost:8080/"
        },
        "id": "oX475ogF9e_J",
        "outputId": "ea3f5354-3d03-4d28-9966-62ac37900e3c"
      },
      "source": [
        "!pip install transformers==2.9.0"
      ],
      "execution_count": null,
      "outputs": [
        {
          "output_type": "stream",
          "text": [
            "Collecting transformers==2.9.0\n",
            "\u001b[?25l  Downloading https://files.pythonhosted.org/packages/cd/38/c9527aa055241c66c4d785381eaf6f80a28c224cae97daa1f8b183b5fabb/transformers-2.9.0-py3-none-any.whl (635kB)\n",
            "\u001b[K     |████████████████████████████████| 645kB 6.6MB/s \n",
            "\u001b[?25hCollecting tokenizers==0.7.0\n",
            "\u001b[?25l  Downloading https://files.pythonhosted.org/packages/ea/59/bb06dd5ca53547d523422d32735585493e0103c992a52a97ba3aa3be33bf/tokenizers-0.7.0-cp37-cp37m-manylinux1_x86_64.whl (5.6MB)\n",
            "\u001b[K     |████████████████████████████████| 5.6MB 9.8MB/s \n",
            "\u001b[?25hRequirement already satisfied: regex!=2019.12.17 in /usr/local/lib/python3.7/dist-packages (from transformers==2.9.0) (2019.12.20)\n",
            "Requirement already satisfied: requests in /usr/local/lib/python3.7/dist-packages (from transformers==2.9.0) (2.23.0)\n",
            "Collecting sacremoses\n",
            "\u001b[?25l  Downloading https://files.pythonhosted.org/packages/75/ee/67241dc87f266093c533a2d4d3d69438e57d7a90abb216fa076e7d475d4a/sacremoses-0.0.45-py3-none-any.whl (895kB)\n",
            "\u001b[K     |████████████████████████████████| 901kB 26.5MB/s \n",
            "\u001b[?25hRequirement already satisfied: filelock in /usr/local/lib/python3.7/dist-packages (from transformers==2.9.0) (3.0.12)\n",
            "Collecting sentencepiece\n",
            "\u001b[?25l  Downloading https://files.pythonhosted.org/packages/ac/aa/1437691b0c7c83086ebb79ce2da16e00bef024f24fec2a5161c35476f499/sentencepiece-0.1.96-cp37-cp37m-manylinux_2_17_x86_64.manylinux2014_x86_64.whl (1.2MB)\n",
            "\u001b[K     |████████████████████████████████| 1.2MB 34.2MB/s \n",
            "\u001b[?25hRequirement already satisfied: tqdm>=4.27 in /usr/local/lib/python3.7/dist-packages (from transformers==2.9.0) (4.41.1)\n",
            "Requirement already satisfied: numpy in /usr/local/lib/python3.7/dist-packages (from transformers==2.9.0) (1.19.5)\n",
            "Requirement already satisfied: urllib3!=1.25.0,!=1.25.1,<1.26,>=1.21.1 in /usr/local/lib/python3.7/dist-packages (from requests->transformers==2.9.0) (1.24.3)\n",
            "Requirement already satisfied: chardet<4,>=3.0.2 in /usr/local/lib/python3.7/dist-packages (from requests->transformers==2.9.0) (3.0.4)\n",
            "Requirement already satisfied: idna<3,>=2.5 in /usr/local/lib/python3.7/dist-packages (from requests->transformers==2.9.0) (2.10)\n",
            "Requirement already satisfied: certifi>=2017.4.17 in /usr/local/lib/python3.7/dist-packages (from requests->transformers==2.9.0) (2021.5.30)\n",
            "Requirement already satisfied: click in /usr/local/lib/python3.7/dist-packages (from sacremoses->transformers==2.9.0) (7.1.2)\n",
            "Requirement already satisfied: joblib in /usr/local/lib/python3.7/dist-packages (from sacremoses->transformers==2.9.0) (1.0.1)\n",
            "Requirement already satisfied: six in /usr/local/lib/python3.7/dist-packages (from sacremoses->transformers==2.9.0) (1.15.0)\n",
            "Installing collected packages: tokenizers, sacremoses, sentencepiece, transformers\n",
            "Successfully installed sacremoses-0.0.45 sentencepiece-0.1.96 tokenizers-0.7.0 transformers-2.9.0\n"
          ],
          "name": "stdout"
        }
      ]
    },
    {
      "cell_type": "code",
      "metadata": {
        "id": "f6neDi6_VxU7"
      },
      "source": [
        "import random\n",
        "import pandas as pd\n",
        "import numpy as np\n",
        "import torch\n",
        "\n",
        "from transformers import (\n",
        "    AdamW,\n",
        "    T5ForConditionalGeneration,\n",
        "    T5Tokenizer,\n",
        "    get_linear_schedule_with_warmup\n",
        ")\n",
        "\n",
        "def set_seed(seed):\n",
        "  random.seed(seed)\n",
        "  np.random.seed(seed)\n",
        "  torch.manual_seed(seed)\n",
        "\n",
        "set_seed(35)"
      ],
      "execution_count": null,
      "outputs": []
    },
    {
      "cell_type": "code",
      "metadata": {
        "id": "4WJAy9LU9P8b"
      },
      "source": [
        "tokenizer = T5Tokenizer.from_pretrained('t5-base')\n",
        "t5_model = T5ForConditionalGeneration.from_pretrained('t5-base')"
      ],
      "execution_count": null,
      "outputs": []
    },
    {
      "cell_type": "code",
      "metadata": {
        "id": "PBoCcyfm9UOY"
      },
      "source": [
        "#should try Adafactor optimizer as well\n",
        "no_decay = [\"bias\", \"LayerNorm.weight\"]\n",
        "optimizer_grouped_parameters = [\n",
        "    {\n",
        "        \"params\": [p for n, p in t5_model.named_parameters() if not any(nd in n for nd in no_decay)],\n",
        "        \"weight_decay\": 0.0,\n",
        "    },\n",
        "    {\n",
        "        \"params\": [p for n, p in t5_model.named_parameters() if any(nd in n for nd in no_decay)],\n",
        "        \"weight_decay\": 0.0,\n",
        "    },\n",
        "]\n",
        "optimizer = AdamW(optimizer_grouped_parameters, lr=3e-4, eps=1e-8)"
      ],
      "execution_count": null,
      "outputs": []
    },
    {
      "cell_type": "code",
      "metadata": {
        "id": "W0Tw_2aH9YnC"
      },
      "source": [
        "#dataset prep\n",
        "tweet = [                      (\"Bitcoin\",\"Click this website to receive $10 in Bitcoin when you sign up!\"),\n",
        "                               (\"pandemic\",\"Click on this link for the ultimate guide on how to end the pandemic\"),\n",
        "                               (\"Marvel\",\"Pre-orders the newest Marvel movie available NOW with this link!\"),\n",
        "                               (\"Psychology\",\"This is the only developmental psychology book you will ever need . SAVE THIS LINK\"),\n",
        "                               (\"Music\", \"Billboard's 2020 best music video is out now. Go to this link to view the chart.\"),\n",
        "         \n",
        "                               (\"iPhone\",\"Visit our website for a BIG DISCOUNT on your iPhone purchase!\"),\n",
        "                               (\"workouts\",\"Browse our website for some free energetic workouts\"),\n",
        "                               (\"dating\",\"Check out our page for 3 months free on the best dating site Tinder!!!!\"),\n",
        "                               (\"tennis\",\"Get free tennis lessons by clicking on this link!\"),\n",
        "                               (\"Spanish\", \"Learn Spanish with natives. Log onto this link now\"),\n",
        "    \n",
        "                               #(\"workouts\",\"Browse our website for some free energetic workouts\"),\n",
        "                               #(\"dating\",\"Check out our page for 3 months free on the best dating site Tinder!!!!\"),\n",
        "                               #(\"tennis\",\"Get free tennis lessons by clicking on this link!\"),\n",
        "                               (\"soccer\", \"World Cup 2022 is here! Check out the game schedule on this link RIGHT NOW...\")\n",
        "         \n",
        "         \n",
        "         ]"
      ],
      "execution_count": null,
      "outputs": []
    },
    {
      "cell_type": "code",
      "metadata": {
        "colab": {
          "base_uri": "https://localhost:8080/"
        },
        "id": "AchCGBV69cWv",
        "outputId": "12f60004-b544-4d93-daf2-790ecccace49"
      },
      "source": [
        "t5_model.train()\n",
        "\n",
        "epochs = 10\n",
        "loss_data = []\n",
        "for epoch in range(epochs):\n",
        "  print (\"epoch \",epoch)\n",
        "  for input,output in tweet:\n",
        "    input_kw = \"\btweet: \"+input+ \" </s>\"\n",
        "    output_tweet = output+\" </s>\"\n",
        "\n",
        "    tokenized_input = tokenizer.encode_plus(input_kw,  max_length=100, pad_to_max_length=True,return_tensors=\"pt\")\n",
        "    tokenized_output = tokenizer.encode_plus(output_tweet, max_length=100, pad_to_max_length=True,return_tensors=\"pt\")\n",
        "\n",
        "    # the forward function that creates the correct decoder_input_ids\n",
        "    output = t5_model(input_ids=tokenized_input[\"input_ids\"], \n",
        "                      lm_labels=tokenized_output[\"input_ids\"],\n",
        "                      decoder_attention_mask=tokenized_output[\"attention_mask\"],\n",
        "                      attention_mask=tokenized_input[\"attention_mask\"])\n",
        "    loss = output[0]\n",
        "    loss_num= loss.item()\n",
        "    logits = output[1]\n",
        "    #running_loss+=loss_num\n",
        "    loss_data.append(loss_num)\n",
        "\n",
        "    #calculate gradient\n",
        "    loss.backward()\n",
        "\n",
        "    #update the parameters\n",
        "    optimizer.step()\n",
        "\n",
        "    #clear gradients of all Var\n",
        "    optimizer.zero_grad()\n"
      ],
      "execution_count": null,
      "outputs": [
        {
          "output_type": "stream",
          "text": [
            "epoch  0\n",
            "epoch  1\n",
            "epoch  2\n",
            "epoch  3\n",
            "epoch  4\n",
            "epoch  5\n",
            "epoch  6\n",
            "epoch  7\n",
            "epoch  8\n",
            "epoch  9\n"
          ],
          "name": "stdout"
        }
      ]
    },
    {
      "cell_type": "code",
      "metadata": {
        "colab": {
          "base_uri": "https://localhost:8080/",
          "height": 294
        },
        "id": "TftldEA423Gs",
        "outputId": "a7533ae0-6007-498f-fb04-63286fd8bedc"
      },
      "source": [
        "import matplotlib.pyplot as plt\n",
        "   \n",
        "steps = [i for i in range(len(loss_data))]\n",
        "  \n",
        "plt.plot(steps, loss_data)\n",
        "plt.title('Loss')\n",
        "plt.xlabel('Steps')\n",
        "plt.ylabel('Loss')\n",
        "plt.show()"
      ],
      "execution_count": null,
      "outputs": [
        {
          "output_type": "display_data",
          "data": {
            "image/png": "[encoded data removed]",
            "text/plain": [
              "<Figure size 432x288 with 1 Axes>"
            ]
          },
          "metadata": {
            "tags": [],
            "needs_background": "light"
          }
        }
      ]
    },
    {
      "cell_type": "code",
      "metadata": {
        "id": "C42D7vTA9k_E"
      },
      "source": [
        "#Using beam search for decodeing\n",
        "#Try model using Top K combine with Top p: https://huggingface.co/blog/how-to-generate"
      ],
      "execution_count": null,
      "outputs": []
    },
    {
      "cell_type": "code",
      "metadata": {
        "colab": {
          "base_uri": "https://localhost:8080/"
        },
        "id": "jRhzdiYaCzty",
        "outputId": "ffa15d85-bf0e-4854-9f73-8f944006f104"
      },
      "source": [
        "test_kw = 'text: soccer </s>'\n",
        "test_tokenized = tokenizer.encode_plus(test_kw, return_tensors=\"pt\")\n",
        "\n",
        "t5_model.eval()\n",
        "beam_outputs = t5_model.generate(\n",
        "    input_ids=test_tokenized[\"input_ids\"],\n",
        "    attention_mask=test_tokenized[\"attention_mask\"],\n",
        "    max_length=64,\n",
        "    early_stopping=True,\n",
        "    num_beams=10,\n",
        "    num_return_sequences=3,\n",
        "    no_repeat_ngram_size=2\n",
        ")\n",
        "\n",
        "for beam_output in beam_outputs:\n",
        "    output = tokenizer.decode(beam_output, skip_special_tokens=True,clean_up_tokenization_spaces=True)\n",
        "    print(output)"
      ],
      "execution_count": null,
      "outputs": [
        {
          "output_type": "stream",
          "text": [
            "Click on this link to find out how to get free soccer tickets.\n",
            "Click on this link to find out how to get free soccer tickets!\n",
            "Click on this link to get started!\n"
          ],
          "name": "stdout"
        }
      ]
    },
    {
      "cell_type": "code",
      "metadata": {
        "colab": {
          "base_uri": "https://localhost:8080/"
        },
        "id": "hPOCcFnzgV-t",
        "outputId": "9168c823-09e0-4037-eb08-c37854582921"
      },
      "source": [
        "test_kw = 'text: soccer </s>'\n",
        "test_tokenized = tokenizer.encode_plus(test_kw, return_tensors=\"pt\")\n",
        "\n",
        "test_input_ids  = test_tokenized[\"input_ids\"]\n",
        "test_attention_mask = test_tokenized[\"attention_mask\"]\n",
        "\n",
        "topNtopK_outputs = t5_model.generate(\n",
        "    input_ids=test_tokenized[\"input_ids\"],\n",
        "    attention_mask=test_tokenized[\"attention_mask\"],\n",
        "    do_sample=True, \n",
        "    max_length=64, \n",
        "    top_k=50, \n",
        "    top_p=0.95, \n",
        "    num_return_sequences=3\n",
        ")\n",
        "\n",
        "#print(\"Output:\\n\" + 100 * '-')\n",
        "for i, output in enumerate(topNtopK_outputs):\n",
        "  print(\"{}: {}\".format(i, tokenizer.decode(output, skip_special_tokens=True)))\n"
      ],
      "execution_count": null,
      "outputs": [
        {
          "output_type": "stream",
          "text": [
            "0: SAVE THIS LINK NOW, for the ultimate in information & entertainment with a variety of options on our website.\n",
            "1: Click here to access our homepage for more information on our site.\n",
            "2: Find the most recent episode of this program on the link to sign up now.\n"
          ],
          "name": "stdout"
        }
      ]
    }
  ]
}